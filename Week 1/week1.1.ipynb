{
 "cells": [
  {
   "cell_type": "code",
   "execution_count": 1,
   "metadata": {},
   "outputs": [],
   "source": [
    "import pandas as pd"
   ]
  },
  {
   "cell_type": "code",
   "execution_count": 2,
   "metadata": {},
   "outputs": [],
   "source": [
    "data_df = pd.read_csv('V5.csv')"
   ]
  },
  {
   "cell_type": "code",
   "execution_count": 3,
   "metadata": {},
   "outputs": [
    {
     "data": {
      "text/plain": [
       "(10000, 12)"
      ]
     },
     "execution_count": 3,
     "metadata": {},
     "output_type": "execute_result"
    }
   ],
   "source": [
    "data_df.shape"
   ]
  },
  {
   "cell_type": "code",
   "execution_count": 4,
   "metadata": {},
   "outputs": [
    {
     "name": "stdout",
     "output_type": "stream",
     "text": [
      "<class 'pandas.core.frame.DataFrame'>\n",
      "RangeIndex: 10000 entries, 0 to 9999\n",
      "Data columns (total 12 columns):\n",
      " #   Column             Non-Null Count  Dtype  \n",
      "---  ------             --------------  -----  \n",
      " 0   Date               10000 non-null  object \n",
      " 1   Year               10000 non-null  int64  \n",
      " 2   Locality           8747 non-null   object \n",
      " 3   Estimated Value    8757 non-null   float64\n",
      " 4   Sale Price         10000 non-null  float64\n",
      " 5   Property           10000 non-null  object \n",
      " 6   Residential        10000 non-null  object \n",
      " 7   num_rooms          10000 non-null  int64  \n",
      " 8   num_bathrooms      10000 non-null  int64  \n",
      " 9   carpet_area        8771 non-null   float64\n",
      " 10  property_tax_rate  10000 non-null  float64\n",
      " 11  Face               10000 non-null  object \n",
      "dtypes: float64(4), int64(3), object(5)\n",
      "memory usage: 937.6+ KB\n"
     ]
    }
   ],
   "source": [
    "data_df.info()"
   ]
  },
  {
   "cell_type": "code",
   "execution_count": 6,
   "metadata": {},
   "outputs": [
    {
     "data": {
      "text/plain": [
       "Date                    0\n",
       "Year                    0\n",
       "Locality             1253\n",
       "Estimated Value      1243\n",
       "Sale Price              0\n",
       "Property                0\n",
       "Residential             0\n",
       "num_rooms               0\n",
       "num_bathrooms           0\n",
       "carpet_area          1229\n",
       "property_tax_rate       0\n",
       "Face                    0\n",
       "dtype: int64"
      ]
     },
     "execution_count": 6,
     "metadata": {},
     "output_type": "execute_result"
    }
   ],
   "source": [
    "data_df.isnull().sum()"
   ]
  },
  {
   "cell_type": "code",
   "execution_count": 7,
   "metadata": {},
   "outputs": [
    {
     "data": {
      "text/html": [
       "<div>\n",
       "<style scoped>\n",
       "    .dataframe tbody tr th:only-of-type {\n",
       "        vertical-align: middle;\n",
       "    }\n",
       "\n",
       "    .dataframe tbody tr th {\n",
       "        vertical-align: top;\n",
       "    }\n",
       "\n",
       "    .dataframe thead th {\n",
       "        text-align: right;\n",
       "    }\n",
       "</style>\n",
       "<table border=\"1\" class=\"dataframe\">\n",
       "  <thead>\n",
       "    <tr style=\"text-align: right;\">\n",
       "      <th></th>\n",
       "      <th>Year</th>\n",
       "      <th>Estimated Value</th>\n",
       "      <th>Sale Price</th>\n",
       "      <th>num_rooms</th>\n",
       "      <th>num_bathrooms</th>\n",
       "      <th>carpet_area</th>\n",
       "      <th>property_tax_rate</th>\n",
       "    </tr>\n",
       "  </thead>\n",
       "  <tbody>\n",
       "    <tr>\n",
       "      <th>count</th>\n",
       "      <td>10000.000000</td>\n",
       "      <td>8.757000e+03</td>\n",
       "      <td>1.000000e+04</td>\n",
       "      <td>10000.000000</td>\n",
       "      <td>10000.000000</td>\n",
       "      <td>8771.000000</td>\n",
       "      <td>10000.000000</td>\n",
       "    </tr>\n",
       "    <tr>\n",
       "      <th>mean</th>\n",
       "      <td>2015.904900</td>\n",
       "      <td>4.377749e+05</td>\n",
       "      <td>6.129367e+05</td>\n",
       "      <td>3.335000</td>\n",
       "      <td>2.326400</td>\n",
       "      <td>1115.160871</td>\n",
       "      <td>1.148257</td>\n",
       "    </tr>\n",
       "    <tr>\n",
       "      <th>std</th>\n",
       "      <td>4.045725</td>\n",
       "      <td>7.799885e+05</td>\n",
       "      <td>1.102810e+06</td>\n",
       "      <td>0.886258</td>\n",
       "      <td>1.207977</td>\n",
       "      <td>308.026850</td>\n",
       "      <td>0.168458</td>\n",
       "    </tr>\n",
       "    <tr>\n",
       "      <th>min</th>\n",
       "      <td>2009.000000</td>\n",
       "      <td>9.800000e+02</td>\n",
       "      <td>2.000000e+03</td>\n",
       "      <td>3.000000</td>\n",
       "      <td>1.000000</td>\n",
       "      <td>900.000000</td>\n",
       "      <td>1.003979</td>\n",
       "    </tr>\n",
       "    <tr>\n",
       "      <th>25%</th>\n",
       "      <td>2012.000000</td>\n",
       "      <td>1.280300e+05</td>\n",
       "      <td>1.560000e+05</td>\n",
       "      <td>3.000000</td>\n",
       "      <td>1.000000</td>\n",
       "      <td>960.000000</td>\n",
       "      <td>1.023495</td>\n",
       "    </tr>\n",
       "    <tr>\n",
       "      <th>50%</th>\n",
       "      <td>2016.000000</td>\n",
       "      <td>2.300200e+05</td>\n",
       "      <td>3.250000e+05</td>\n",
       "      <td>3.000000</td>\n",
       "      <td>2.000000</td>\n",
       "      <td>1021.000000</td>\n",
       "      <td>1.025899</td>\n",
       "    </tr>\n",
       "    <tr>\n",
       "      <th>75%</th>\n",
       "      <td>2019.000000</td>\n",
       "      <td>4.253200e+05</td>\n",
       "      <td>6.150000e+05</td>\n",
       "      <td>3.000000</td>\n",
       "      <td>3.000000</td>\n",
       "      <td>1083.000000</td>\n",
       "      <td>1.348259</td>\n",
       "    </tr>\n",
       "    <tr>\n",
       "      <th>max</th>\n",
       "      <td>2022.000000</td>\n",
       "      <td>2.111991e+07</td>\n",
       "      <td>2.575000e+07</td>\n",
       "      <td>8.000000</td>\n",
       "      <td>8.000000</td>\n",
       "      <td>2989.000000</td>\n",
       "      <td>1.422308</td>\n",
       "    </tr>\n",
       "  </tbody>\n",
       "</table>\n",
       "</div>"
      ],
      "text/plain": [
       "               Year  Estimated Value    Sale Price     num_rooms  \\\n",
       "count  10000.000000     8.757000e+03  1.000000e+04  10000.000000   \n",
       "mean    2015.904900     4.377749e+05  6.129367e+05      3.335000   \n",
       "std        4.045725     7.799885e+05  1.102810e+06      0.886258   \n",
       "min     2009.000000     9.800000e+02  2.000000e+03      3.000000   \n",
       "25%     2012.000000     1.280300e+05  1.560000e+05      3.000000   \n",
       "50%     2016.000000     2.300200e+05  3.250000e+05      3.000000   \n",
       "75%     2019.000000     4.253200e+05  6.150000e+05      3.000000   \n",
       "max     2022.000000     2.111991e+07  2.575000e+07      8.000000   \n",
       "\n",
       "       num_bathrooms  carpet_area  property_tax_rate  \n",
       "count   10000.000000  8771.000000       10000.000000  \n",
       "mean        2.326400  1115.160871           1.148257  \n",
       "std         1.207977   308.026850           0.168458  \n",
       "min         1.000000   900.000000           1.003979  \n",
       "25%         1.000000   960.000000           1.023495  \n",
       "50%         2.000000  1021.000000           1.025899  \n",
       "75%         3.000000  1083.000000           1.348259  \n",
       "max         8.000000  2989.000000           1.422308  "
      ]
     },
     "execution_count": 7,
     "metadata": {},
     "output_type": "execute_result"
    }
   ],
   "source": [
    "data_df.describe()"
   ]
  },
  {
   "cell_type": "code",
   "execution_count": 10,
   "metadata": {},
   "outputs": [
    {
     "data": {
      "text/plain": [
       "'2009-11-16'"
      ]
     },
     "execution_count": 10,
     "metadata": {},
     "output_type": "execute_result"
    }
   ],
   "source": [
    "data_df.at[692, 'Date']"
   ]
  },
  {
   "cell_type": "code",
   "execution_count": 9,
   "metadata": {},
   "outputs": [
    {
     "data": {
      "text/html": [
       "<div>\n",
       "<style scoped>\n",
       "    .dataframe tbody tr th:only-of-type {\n",
       "        vertical-align: middle;\n",
       "    }\n",
       "\n",
       "    .dataframe tbody tr th {\n",
       "        vertical-align: top;\n",
       "    }\n",
       "\n",
       "    .dataframe thead th {\n",
       "        text-align: right;\n",
       "    }\n",
       "</style>\n",
       "<table border=\"1\" class=\"dataframe\">\n",
       "  <thead>\n",
       "    <tr style=\"text-align: right;\">\n",
       "      <th></th>\n",
       "      <th>Date</th>\n",
       "      <th>Year</th>\n",
       "      <th>Locality</th>\n",
       "      <th>Estimated Value</th>\n",
       "      <th>Sale Price</th>\n",
       "      <th>Property</th>\n",
       "      <th>Residential</th>\n",
       "      <th>num_rooms</th>\n",
       "      <th>num_bathrooms</th>\n",
       "      <th>carpet_area</th>\n",
       "      <th>property_tax_rate</th>\n",
       "      <th>Face</th>\n",
       "    </tr>\n",
       "  </thead>\n",
       "  <tbody>\n",
       "    <tr>\n",
       "      <th>0</th>\n",
       "      <td>2009-01-02</td>\n",
       "      <td>2009</td>\n",
       "      <td>Waterbury</td>\n",
       "      <td>111440.0</td>\n",
       "      <td>185000.0</td>\n",
       "      <td>Single Family</td>\n",
       "      <td>Detached House</td>\n",
       "      <td>3</td>\n",
       "      <td>3</td>\n",
       "      <td>996.0</td>\n",
       "      <td>1.025953</td>\n",
       "      <td>South</td>\n",
       "    </tr>\n",
       "    <tr>\n",
       "      <th>1</th>\n",
       "      <td>2009-01-02</td>\n",
       "      <td>2009</td>\n",
       "      <td>Bridgeport</td>\n",
       "      <td>124670.0</td>\n",
       "      <td>150000.0</td>\n",
       "      <td>Two Family</td>\n",
       "      <td>Duplex</td>\n",
       "      <td>4</td>\n",
       "      <td>3</td>\n",
       "      <td>1241.0</td>\n",
       "      <td>1.025953</td>\n",
       "      <td>South</td>\n",
       "    </tr>\n",
       "    <tr>\n",
       "      <th>2</th>\n",
       "      <td>2009-01-02</td>\n",
       "      <td>2009</td>\n",
       "      <td>Waterbury</td>\n",
       "      <td>55720.0</td>\n",
       "      <td>140000.0</td>\n",
       "      <td>Single Family</td>\n",
       "      <td>Detached House</td>\n",
       "      <td>3</td>\n",
       "      <td>2</td>\n",
       "      <td>910.0</td>\n",
       "      <td>1.025953</td>\n",
       "      <td>South</td>\n",
       "    </tr>\n",
       "    <tr>\n",
       "      <th>3</th>\n",
       "      <td>2009-01-02</td>\n",
       "      <td>2009</td>\n",
       "      <td>Bridgeport</td>\n",
       "      <td>4775276.0</td>\n",
       "      <td>272900.0</td>\n",
       "      <td>Single Family</td>\n",
       "      <td>Detached House</td>\n",
       "      <td>3</td>\n",
       "      <td>1</td>\n",
       "      <td>971.0</td>\n",
       "      <td>1.025953</td>\n",
       "      <td>East</td>\n",
       "    </tr>\n",
       "    <tr>\n",
       "      <th>4</th>\n",
       "      <td>2009-01-02</td>\n",
       "      <td>2009</td>\n",
       "      <td>Bridgeport</td>\n",
       "      <td>112351.0</td>\n",
       "      <td>210000.0</td>\n",
       "      <td>?</td>\n",
       "      <td>Detached House</td>\n",
       "      <td>3</td>\n",
       "      <td>2</td>\n",
       "      <td>1092.0</td>\n",
       "      <td>1.025953</td>\n",
       "      <td>East</td>\n",
       "    </tr>\n",
       "    <tr>\n",
       "      <th>...</th>\n",
       "      <td>...</td>\n",
       "      <td>...</td>\n",
       "      <td>...</td>\n",
       "      <td>...</td>\n",
       "      <td>...</td>\n",
       "      <td>...</td>\n",
       "      <td>...</td>\n",
       "      <td>...</td>\n",
       "      <td>...</td>\n",
       "      <td>...</td>\n",
       "      <td>...</td>\n",
       "      <td>...</td>\n",
       "    </tr>\n",
       "    <tr>\n",
       "      <th>9995</th>\n",
       "      <td>2022-09-30</td>\n",
       "      <td>2022</td>\n",
       "      <td>Bridgeport</td>\n",
       "      <td>153660.0</td>\n",
       "      <td>322000.0</td>\n",
       "      <td>?</td>\n",
       "      <td>Detached House</td>\n",
       "      <td>3</td>\n",
       "      <td>3</td>\n",
       "      <td>917.0</td>\n",
       "      <td>1.003979</td>\n",
       "      <td>North</td>\n",
       "    </tr>\n",
       "    <tr>\n",
       "      <th>9996</th>\n",
       "      <td>2022-09-30</td>\n",
       "      <td>2022</td>\n",
       "      <td>Bridgeport</td>\n",
       "      <td>109820.0</td>\n",
       "      <td>340000.0</td>\n",
       "      <td>?</td>\n",
       "      <td>Duplex</td>\n",
       "      <td>4</td>\n",
       "      <td>4</td>\n",
       "      <td>1416.0</td>\n",
       "      <td>1.003979</td>\n",
       "      <td>North</td>\n",
       "    </tr>\n",
       "    <tr>\n",
       "      <th>9997</th>\n",
       "      <td>2022-09-30</td>\n",
       "      <td>2022</td>\n",
       "      <td>Waterbury</td>\n",
       "      <td>83210.0</td>\n",
       "      <td>170000.0</td>\n",
       "      <td>Single Family</td>\n",
       "      <td>Detached House</td>\n",
       "      <td>3</td>\n",
       "      <td>1</td>\n",
       "      <td>964.0</td>\n",
       "      <td>1.003979</td>\n",
       "      <td>South</td>\n",
       "    </tr>\n",
       "    <tr>\n",
       "      <th>9998</th>\n",
       "      <td>2022-09-30</td>\n",
       "      <td>2022</td>\n",
       "      <td>NaN</td>\n",
       "      <td>216420.0</td>\n",
       "      <td>415000.0</td>\n",
       "      <td>Single Family</td>\n",
       "      <td>Detached House</td>\n",
       "      <td>3</td>\n",
       "      <td>3</td>\n",
       "      <td>1014.0</td>\n",
       "      <td>1.003979</td>\n",
       "      <td>North</td>\n",
       "    </tr>\n",
       "    <tr>\n",
       "      <th>9999</th>\n",
       "      <td>2022-09-30</td>\n",
       "      <td>2022</td>\n",
       "      <td>Norwalk</td>\n",
       "      <td>154920.0</td>\n",
       "      <td>196000.0</td>\n",
       "      <td>Single Family</td>\n",
       "      <td>Detached House</td>\n",
       "      <td>3</td>\n",
       "      <td>1</td>\n",
       "      <td>932.0</td>\n",
       "      <td>1.003979</td>\n",
       "      <td>East</td>\n",
       "    </tr>\n",
       "  </tbody>\n",
       "</table>\n",
       "<p>10000 rows × 12 columns</p>\n",
       "</div>"
      ],
      "text/plain": [
       "            Date  Year    Locality  Estimated Value  Sale Price  \\\n",
       "0     2009-01-02  2009   Waterbury         111440.0    185000.0   \n",
       "1     2009-01-02  2009  Bridgeport         124670.0    150000.0   \n",
       "2     2009-01-02  2009   Waterbury          55720.0    140000.0   \n",
       "3     2009-01-02  2009  Bridgeport        4775276.0    272900.0   \n",
       "4     2009-01-02  2009  Bridgeport         112351.0    210000.0   \n",
       "...          ...   ...         ...              ...         ...   \n",
       "9995  2022-09-30  2022  Bridgeport         153660.0    322000.0   \n",
       "9996  2022-09-30  2022  Bridgeport         109820.0    340000.0   \n",
       "9997  2022-09-30  2022   Waterbury          83210.0    170000.0   \n",
       "9998  2022-09-30  2022         NaN         216420.0    415000.0   \n",
       "9999  2022-09-30  2022     Norwalk         154920.0    196000.0   \n",
       "\n",
       "           Property     Residential  num_rooms  num_bathrooms  carpet_area  \\\n",
       "0     Single Family  Detached House          3              3        996.0   \n",
       "1        Two Family          Duplex          4              3       1241.0   \n",
       "2     Single Family  Detached House          3              2        910.0   \n",
       "3     Single Family  Detached House          3              1        971.0   \n",
       "4                 ?  Detached House          3              2       1092.0   \n",
       "...             ...             ...        ...            ...          ...   \n",
       "9995              ?  Detached House          3              3        917.0   \n",
       "9996              ?          Duplex          4              4       1416.0   \n",
       "9997  Single Family  Detached House          3              1        964.0   \n",
       "9998  Single Family  Detached House          3              3       1014.0   \n",
       "9999  Single Family  Detached House          3              1        932.0   \n",
       "\n",
       "      property_tax_rate   Face  \n",
       "0              1.025953  South  \n",
       "1              1.025953  South  \n",
       "2              1.025953  South  \n",
       "3              1.025953   East  \n",
       "4              1.025953   East  \n",
       "...                 ...    ...  \n",
       "9995           1.003979  North  \n",
       "9996           1.003979  North  \n",
       "9997           1.003979  South  \n",
       "9998           1.003979  North  \n",
       "9999           1.003979   East  \n",
       "\n",
       "[10000 rows x 12 columns]"
      ]
     },
     "execution_count": 9,
     "metadata": {},
     "output_type": "execute_result"
    }
   ],
   "source": [
    "data_df"
   ]
  },
  {
   "cell_type": "code",
   "execution_count": 11,
   "metadata": {},
   "outputs": [
    {
     "data": {
      "text/plain": [
       "3"
      ]
     },
     "execution_count": 11,
     "metadata": {},
     "output_type": "execute_result"
    }
   ],
   "source": [
    "data_df.iloc[546, 7]"
   ]
  },
  {
   "cell_type": "code",
   "execution_count": 15,
   "metadata": {},
   "outputs": [
    {
     "data": {
      "text/plain": [
       "array(['Waterbury', 'Bridgeport', 'Greenwich', 'Norwalk', nan,\n",
       "       'Fairfield', 'West Hartford', 'Stamford'], dtype=object)"
      ]
     },
     "execution_count": 15,
     "metadata": {},
     "output_type": "execute_result"
    }
   ],
   "source": [
    "data_df['Locality'].unique()"
   ]
  },
  {
   "cell_type": "code",
   "execution_count": null,
   "metadata": {},
   "outputs": [],
   "source": []
  },
  {
   "cell_type": "code",
   "execution_count": 58,
   "metadata": {},
   "outputs": [
    {
     "data": {
      "text/plain": [
       "1229"
      ]
     },
     "execution_count": 58,
     "metadata": {},
     "output_type": "execute_result"
    }
   ],
   "source": [
    "data_df['carpet_area'].isnull().sum()"
   ]
  },
  {
   "cell_type": "code",
   "execution_count": 55,
   "metadata": {},
   "outputs": [
    {
     "data": {
      "text/plain": [
       "5548"
      ]
     },
     "execution_count": 55,
     "metadata": {},
     "output_type": "execute_result"
    }
   ],
   "source": [
    "data_df.isnull().sum().sum()"
   ]
  },
  {
   "cell_type": "code",
   "execution_count": 46,
   "metadata": {},
   "outputs": [],
   "source": [
    "data_df.replace('Nan', pd.NA, inplace=True)"
   ]
  },
  {
   "cell_type": "code",
   "execution_count": 66,
   "metadata": {},
   "outputs": [
    {
     "data": {
      "text/plain": [
       "9917"
      ]
     },
     "execution_count": 66,
     "metadata": {},
     "output_type": "execute_result"
    }
   ],
   "source": [
    "df_dropped = data_df.dropna(thresh=len(data_df.columns) - 2)\n",
    "len(df_dropped)"
   ]
  },
  {
   "cell_type": "code",
   "execution_count": 62,
   "metadata": {},
   "outputs": [
    {
     "data": {
      "text/plain": [
       "5449"
      ]
     },
     "execution_count": 62,
     "metadata": {},
     "output_type": "execute_result"
    }
   ],
   "source": [
    "df_dropped = data_df.dropna()\n",
    "len(df_dropped)"
   ]
  }
 ],
 "metadata": {
  "kernelspec": {
   "display_name": "Python 3",
   "language": "python",
   "name": "python3"
  },
  "language_info": {
   "codemirror_mode": {
    "name": "ipython",
    "version": 3
   },
   "file_extension": ".py",
   "mimetype": "text/x-python",
   "name": "python",
   "nbconvert_exporter": "python",
   "pygments_lexer": "ipython3",
   "version": "3.11.5"
  }
 },
 "nbformat": 4,
 "nbformat_minor": 2
}
